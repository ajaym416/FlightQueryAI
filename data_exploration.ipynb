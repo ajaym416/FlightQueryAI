{
 "cells": [
  {
   "cell_type": "code",
   "execution_count": 2,
   "metadata": {},
   "outputs": [
    {
     "name": "stderr",
     "output_type": "stream",
     "text": [
      "/home/pyatrix/PycharmProjects/Personal_projects/FlightQueryAI/venv/lib/python3.10/site-packages/tqdm/auto.py:21: TqdmWarning: IProgress not found. Please update jupyter and ipywidgets. See https://ipywidgets.readthedocs.io/en/stable/user_install.html\n",
      "  from .autonotebook import tqdm as notebook_tqdm\n"
     ]
    },
    {
     "name": "stdout",
     "output_type": "stream",
     "text": [
      "Path to dataset files: /home/pyatrix/.cache/kagglehub/datasets/usdot/flight-delays/versions/1\n"
     ]
    }
   ],
   "source": [
    "import os\n",
    "\n",
    "import kagglehub\n",
    "import pandas as pd\n",
    "\n",
    "#Download the current version that is 1 \n",
    "path = kagglehub.dataset_download(\"usdot/flight-delays/versions/1\")\n",
    "\n",
    "print(\"Path to dataset files:\", path)"
   ]
  },
  {
   "cell_type": "code",
   "execution_count": 3,
   "metadata": {},
   "outputs": [
    {
     "data": {
      "text/html": [
       "<div>\n",
       "<style scoped>\n",
       "    .dataframe tbody tr th:only-of-type {\n",
       "        vertical-align: middle;\n",
       "    }\n",
       "\n",
       "    .dataframe tbody tr th {\n",
       "        vertical-align: top;\n",
       "    }\n",
       "\n",
       "    .dataframe thead th {\n",
       "        text-align: right;\n",
       "    }\n",
       "</style>\n",
       "<table border=\"1\" class=\"dataframe\">\n",
       "  <thead>\n",
       "    <tr style=\"text-align: right;\">\n",
       "      <th></th>\n",
       "      <th>IATA_CODE</th>\n",
       "      <th>AIRLINE</th>\n",
       "    </tr>\n",
       "  </thead>\n",
       "  <tbody>\n",
       "    <tr>\n",
       "      <th>0</th>\n",
       "      <td>UA</td>\n",
       "      <td>United Air Lines Inc.</td>\n",
       "    </tr>\n",
       "    <tr>\n",
       "      <th>1</th>\n",
       "      <td>AA</td>\n",
       "      <td>American Airlines Inc.</td>\n",
       "    </tr>\n",
       "    <tr>\n",
       "      <th>2</th>\n",
       "      <td>US</td>\n",
       "      <td>US Airways Inc.</td>\n",
       "    </tr>\n",
       "    <tr>\n",
       "      <th>3</th>\n",
       "      <td>F9</td>\n",
       "      <td>Frontier Airlines Inc.</td>\n",
       "    </tr>\n",
       "    <tr>\n",
       "      <th>4</th>\n",
       "      <td>B6</td>\n",
       "      <td>JetBlue Airways</td>\n",
       "    </tr>\n",
       "    <tr>\n",
       "      <th>5</th>\n",
       "      <td>OO</td>\n",
       "      <td>Skywest Airlines Inc.</td>\n",
       "    </tr>\n",
       "    <tr>\n",
       "      <th>6</th>\n",
       "      <td>AS</td>\n",
       "      <td>Alaska Airlines Inc.</td>\n",
       "    </tr>\n",
       "    <tr>\n",
       "      <th>7</th>\n",
       "      <td>NK</td>\n",
       "      <td>Spirit Air Lines</td>\n",
       "    </tr>\n",
       "    <tr>\n",
       "      <th>8</th>\n",
       "      <td>WN</td>\n",
       "      <td>Southwest Airlines Co.</td>\n",
       "    </tr>\n",
       "    <tr>\n",
       "      <th>9</th>\n",
       "      <td>DL</td>\n",
       "      <td>Delta Air Lines Inc.</td>\n",
       "    </tr>\n",
       "    <tr>\n",
       "      <th>10</th>\n",
       "      <td>EV</td>\n",
       "      <td>Atlantic Southeast Airlines</td>\n",
       "    </tr>\n",
       "    <tr>\n",
       "      <th>11</th>\n",
       "      <td>HA</td>\n",
       "      <td>Hawaiian Airlines Inc.</td>\n",
       "    </tr>\n",
       "    <tr>\n",
       "      <th>12</th>\n",
       "      <td>MQ</td>\n",
       "      <td>American Eagle Airlines Inc.</td>\n",
       "    </tr>\n",
       "    <tr>\n",
       "      <th>13</th>\n",
       "      <td>VX</td>\n",
       "      <td>Virgin America</td>\n",
       "    </tr>\n",
       "  </tbody>\n",
       "</table>\n",
       "</div>"
      ],
      "text/plain": [
       "   IATA_CODE                       AIRLINE\n",
       "0         UA         United Air Lines Inc.\n",
       "1         AA        American Airlines Inc.\n",
       "2         US               US Airways Inc.\n",
       "3         F9        Frontier Airlines Inc.\n",
       "4         B6               JetBlue Airways\n",
       "5         OO         Skywest Airlines Inc.\n",
       "6         AS          Alaska Airlines Inc.\n",
       "7         NK              Spirit Air Lines\n",
       "8         WN        Southwest Airlines Co.\n",
       "9         DL          Delta Air Lines Inc.\n",
       "10        EV   Atlantic Southeast Airlines\n",
       "11        HA        Hawaiian Airlines Inc.\n",
       "12        MQ  American Eagle Airlines Inc.\n",
       "13        VX                Virgin America"
      ]
     },
     "execution_count": 3,
     "metadata": {},
     "output_type": "execute_result"
    }
   ],
   "source": [
    "airlines_df = pd.read_csv(os.path.join(path,\"airlines.csv\"))\n",
    "airlines_df"
   ]
  },
  {
   "cell_type": "code",
   "execution_count": 4,
   "metadata": {},
   "outputs": [
    {
     "data": {
      "text/plain": [
       "Index(['IATA_CODE', 'AIRLINE'], dtype='object')"
      ]
     },
     "execution_count": 4,
     "metadata": {},
     "output_type": "execute_result"
    }
   ],
   "source": [
    "airlines_df.columns"
   ]
  },
  {
   "cell_type": "code",
   "execution_count": 5,
   "metadata": {},
   "outputs": [
    {
     "data": {
      "text/plain": [
       "Index(['IATA_CODE', 'AIRPORT', 'CITY', 'STATE', 'COUNTRY', 'LATITUDE',\n",
       "       'LONGITUDE'],\n",
       "      dtype='object')"
      ]
     },
     "execution_count": 5,
     "metadata": {},
     "output_type": "execute_result"
    }
   ],
   "source": [
    "airports_df = pd.read_csv(os.path.join(path,\"airports.csv\"))\n",
    "airports_df\n",
    "\n",
    "airports_df.columns"
   ]
  },
  {
   "cell_type": "code",
   "execution_count": 6,
   "metadata": {},
   "outputs": [
    {
     "data": {
      "text/plain": [
       "IATA_CODE\n",
       "YUM    1\n",
       "ABE    1\n",
       "SIT    1\n",
       "SJC    1\n",
       "SJT    1\n",
       "      ..\n",
       "ACK    1\n",
       "ACT    1\n",
       "ACV    1\n",
       "ACY    1\n",
       "ADK    1\n",
       "Name: count, Length: 322, dtype: int64"
      ]
     },
     "execution_count": 6,
     "metadata": {},
     "output_type": "execute_result"
    }
   ],
   "source": [
    "airports_df[\"IATA_CODE\"].value_counts()"
   ]
  },
  {
   "cell_type": "code",
   "execution_count": 7,
   "metadata": {},
   "outputs": [
    {
     "name": "stderr",
     "output_type": "stream",
     "text": [
      "/tmp/ipykernel_41267/83074616.py:1: DtypeWarning: Columns (7,8) have mixed types. Specify dtype option on import or set low_memory=False.\n",
      "  flights_df = pd.read_csv(os.path.join(path,\"flights.csv\"))\n"
     ]
    },
    {
     "data": {
      "text/plain": [
       "5819079"
      ]
     },
     "execution_count": 7,
     "metadata": {},
     "output_type": "execute_result"
    }
   ],
   "source": [
    "flights_df = pd.read_csv(os.path.join(path,\"flights.csv\"))\n",
    "len(flights_df)\n"
   ]
  },
  {
   "cell_type": "code",
   "execution_count": 9,
   "metadata": {},
   "outputs": [
    {
     "data": {
      "text/plain": [
       "Index(['YEAR', 'MONTH', 'DAY', 'DAY_OF_WEEK', 'AIRLINE', 'FLIGHT_NUMBER',\n",
       "       'TAIL_NUMBER', 'ORIGIN_AIRPORT', 'DESTINATION_AIRPORT',\n",
       "       'SCHEDULED_DEPARTURE', 'DEPARTURE_TIME', 'DEPARTURE_DELAY', 'TAXI_OUT',\n",
       "       'WHEELS_OFF', 'SCHEDULED_TIME', 'ELAPSED_TIME', 'AIR_TIME', 'DISTANCE',\n",
       "       'WHEELS_ON', 'TAXI_IN', 'SCHEDULED_ARRIVAL', 'ARRIVAL_TIME',\n",
       "       'ARRIVAL_DELAY', 'DIVERTED', 'CANCELLED', 'CANCELLATION_REASON',\n",
       "       'AIR_SYSTEM_DELAY', 'SECURITY_DELAY', 'AIRLINE_DELAY',\n",
       "       'LATE_AIRCRAFT_DELAY', 'WEATHER_DELAY'],\n",
       "      dtype='object')"
      ]
     },
     "execution_count": 9,
     "metadata": {},
     "output_type": "execute_result"
    }
   ],
   "source": [
    "flights_df.columns"
   ]
  },
  {
   "cell_type": "code",
   "execution_count": 11,
   "metadata": {},
   "outputs": [
    {
     "data": {
      "text/plain": [
       "DESTINATION_AIRPORT\n",
       "ATL      346904\n",
       "ORD      285906\n",
       "DFW      239582\n",
       "DEN      196010\n",
       "LAX      194696\n",
       "          ...  \n",
       "13459         1\n",
       "12265         1\n",
       "14025         1\n",
       "13964         1\n",
       "10666         1\n",
       "Name: count, Length: 930, dtype: int64"
      ]
     },
     "execution_count": 11,
     "metadata": {},
     "output_type": "execute_result"
    }
   ],
   "source": [
    "flights_df[\"DESTINATION_AIRPORT\"].value_counts()"
   ]
  },
  {
   "cell_type": "code",
   "execution_count": 8,
   "metadata": {},
   "outputs": [
    {
     "data": {
      "text/plain": [
       "AIRLINE\n",
       "WN    1261855\n",
       "DL     875881\n",
       "AA     725984\n",
       "OO     588353\n",
       "EV     571977\n",
       "UA     515723\n",
       "MQ     294632\n",
       "B6     267048\n",
       "US     198715\n",
       "AS     172521\n",
       "NK     117379\n",
       "F9      90836\n",
       "HA      76272\n",
       "VX      61903\n",
       "Name: count, dtype: int64"
      ]
     },
     "execution_count": 8,
     "metadata": {},
     "output_type": "execute_result"
    }
   ],
   "source": [
    "flights_df[\"AIRLINE\"].value_counts()"
   ]
  },
  {
   "cell_type": "code",
   "execution_count": 9,
   "metadata": {},
   "outputs": [],
   "source": [
    "import numpy as np\n",
    "flights_df = flights_df.replace([np.nan], [None])"
   ]
  },
  {
   "cell_type": "code",
   "execution_count": 10,
   "metadata": {},
   "outputs": [
    {
     "name": "stdout",
     "output_type": "stream",
     "text": [
      "(2015,) (1,) (1,) (4,) ('AS',) (98,) ('N407AS',) ('ANC',) ('SEA',) (5,) (2354.0,) (-11.0,) (21.0,) (15.0,) (205.0,) (194.0,) (169.0,) (1448,) (404.0,) (4.0,) (430,) (408.0,) (-22.0,) (0,) (0,) (None,) (None,) (None,) (None,) (None,) None\n"
     ]
    }
   ],
   "source": [
    "num_rows = len(flights_df)\n",
    "chunk_size =2\n",
    "for start in range(0, num_rows, chunk_size):\n",
    "    end = start + chunk_size\n",
    "    chunk_df = flights_df.iloc[start:end]\n",
    "    for row in chunk_df.to_dict(orient=\"records\"):\n",
    "        year=row[\"YEAR\"],\n",
    "        month=row[\"MONTH\"],\n",
    "        day=row[\"DAY\"],\n",
    "        day_of_week=row[\"DAY_OF_WEEK\"],\n",
    "        airline_id=row[\"AIRLINE\"],\n",
    "        flight_number=row[\"FLIGHT_NUMBER\"],\n",
    "        tail_number=row.get(\"TAIL_NUMBER\"),\n",
    "        origin_airport_id=row[\"ORIGIN_AIRPORT\"],\n",
    "        destination_airport_id=row[\"DESTINATION_AIRPORT\"],\n",
    "        scheduled_departure=row.get(\"SCHEDULED_DEPARTURE\"),\n",
    "        departure_time=row.get(\"DEPARTURE_TIME\"),\n",
    "        departure_delay=row.get(\"DEPARTURE_DELAY\"),\n",
    "        taxi_out=row.get(\"TAXI_OUT\"),\n",
    "        wheels_off=row.get(\"WHEELS_OFF\"),\n",
    "        scheduled_time=row.get(\"SCHEDULED_TIME\"),\n",
    "        elapsed_time=row.get(\"ELAPSED_TIME\"),\n",
    "        air_time=row.get(\"AIR_TIME\"),\n",
    "        distance=row.get(\"DISTANCE\"),\n",
    "        wheels_on=row.get(\"WHEELS_ON\"),\n",
    "        taxi_in=row.get(\"TAXI_IN\"),\n",
    "        scheduled_arrival=row.get(\"SCHEDULED_ARRIVAL\"),\n",
    "        arrival_time=row.get(\"ARRIVAL_TIME\"),\n",
    "        arrival_delay=row.get(\"ARRIVAL_DELAY\"),\n",
    "        diverted=row.get(\"DIVERTED\"),\n",
    "        cancelled=row.get(\"CANCELLED\"),\n",
    "        cancellation_reason=row.get(\"CANCELLATION_REASON\"),\n",
    "        air_system_delay=row.get(\"AIR_SYSTEM_DELAY\"),\n",
    "        security_delay=row.get(\"SECURITY_DELAY\"),\n",
    "        airline_delay=row.get(\"AIRLINE_DELAY\"),\n",
    "        late_aircraft_delay=row.get(\"LATE_AIRCRAFT_DELAY\"),\n",
    "        weather_delay=row.get(\"WEATHER_DELAY\",None)\n",
    "        print(year,month,day,day_of_week,airline_id,flight_number,tail_number,origin_airport_id,destination_airport_id,scheduled_departure,departure_time,departure_delay,taxi_out,wheels_off,scheduled_time,elapsed_time,air_time,distance,wheels_on,taxi_in,scheduled_arrival,arrival_time,arrival_delay,diverted,cancelled,cancellation_reason,air_system_delay,security_delay,airline_delay,late_aircraft_delay,weather_delay)\n",
    "        break\n",
    "    break"
   ]
  },
  {
   "cell_type": "code",
   "execution_count": null,
   "metadata": {},
   "outputs": [],
   "source": []
  }
 ],
 "metadata": {
  "kernelspec": {
   "display_name": "venv",
   "language": "python",
   "name": "python3"
  },
  "language_info": {
   "codemirror_mode": {
    "name": "ipython",
    "version": 3
   },
   "file_extension": ".py",
   "mimetype": "text/x-python",
   "name": "python",
   "nbconvert_exporter": "python",
   "pygments_lexer": "ipython3",
   "version": "3.10.12"
  }
 },
 "nbformat": 4,
 "nbformat_minor": 2
}
